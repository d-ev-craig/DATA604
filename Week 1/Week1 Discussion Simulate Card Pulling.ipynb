{
 "cells": [
  {
   "cell_type": "code",
   "execution_count": null,
   "id": "d1915482",
   "metadata": {},
   "outputs": [
    {
     "name": "stdin",
     "output_type": "stream",
     "text": [
      "Enter how many 54 card decks you want to shuffle in:  -1\n"
     ]
    },
    {
     "name": "stdout",
     "output_type": "stream",
     "text": [
      "Invalid input. Please enter a positive value.\n"
     ]
    },
    {
     "name": "stdin",
     "output_type": "stream",
     "text": [
      "Enter how many 54 card decks you want to shuffle in:  a\n"
     ]
    },
    {
     "name": "stdout",
     "output_type": "stream",
     "text": [
      "Invalid input. Please enter a numeric value.\n"
     ]
    }
   ],
   "source": [
    "import random\n",
    "\n",
    "#Create our variables that will generate our cards\n",
    "#Create our variable to hold our deck and pulled cards for when we iterate multiple times\n",
    "suits = [\"Clubs\", \"Hearts\",\"Spades\",\"Diamonds\"]\n",
    "values = [\"2\",\"3\",\"4\",\"5\",\"6\",\"7\",\"8\",\"9\",\"10\",\"Jack\",\"Queen\",\"King\",\"Ace\"]\n",
    "deck = []\n",
    "pulledCards = []\n",
    "   \n",
    "\n",
    "#Require the user to indicate how many decks they want to shuffle in and it be numeric\n",
    "while True:\n",
    "    try:\n",
    "        numDecks = int(input(\"Enter how many 54 card decks you want to shuffle in: \"))\n",
    "        if numDecks > 0:\n",
    "            break  # Break the loop if a valid numeric value is entered\n",
    "        else:\n",
    "            print(\"Invalid input. Please enter a positive value.\")\n",
    "    except ValueError:\n",
    "        print(\"Invalid input. Please enter a numeric value.\")\n",
    "\n",
    "#Require user to indicate how many times they want to pull a card\n",
    "while True:\n",
    "    try:\n",
    "        cardsToPull = int(input(\"How many cards do you want to pull: \"))\n",
    "        break  # Break the loop if a valid numeric value is entered\n",
    "    except ValueError:\n",
    "        print(\"Invalid input. Please enter a numeric value.\")\n",
    "        \n",
    "#Create our deck object\n",
    "def createDeck(numDecks):\n",
    "    for num in range(numDecks): #repeat the below nested loop per user inputted value\n",
    "        for suit in suits:\n",
    "            for value in values:\n",
    "                cards = value + ' of ' + suit # ie Ace of Spades\n",
    "                deck.append(cards)            #Add to our deck\n",
    "    deck.append(\"Joker\")                     #Add in two jokers per user inputted number of decks\n",
    "    deck.append(\"Joker\")\n",
    "    return(deck)\n",
    "\n",
    "deck = createDeck(numDecks)               #Create our deck\n",
    "\n",
    "def pullCard():                            #Pull a card if there are any. If there aren't state there are none\n",
    "    if len(deck) == 0:\n",
    "        print(\"There are no more cards.\")\n",
    "        return None\n",
    "\n",
    "    index = random.randint(0, len(deck) - 1)      #randomly select an index of our deck list\n",
    "    card = deck.pop(index)                        #pop() will remove from our deck list so it cant be pulled again\n",
    "    return card\n",
    "\n",
    "   \n",
    "    \n",
    "for num in range(cardsToPull):\n",
    "    pulledCard = pullCard()                #build our pulled cards list\n",
    "    if pulledCard:\n",
    "        pulledCards.append(pulledCard)\n",
    "\n",
    "# Print the list of pulled cards\n",
    "print(\"Cards pulled:\", pulledCards)\n",
    "\n",
    "                     "
   ]
  },
  {
   "cell_type": "code",
   "execution_count": 9,
   "id": "baad877a-fbd5-488f-a4d9-bf283721d944",
   "metadata": {},
   "outputs": [
    {
     "data": {
      "text/plain": [
       "<function __main__.pullCard()>"
      ]
     },
     "execution_count": 9,
     "metadata": {},
     "output_type": "execute_result"
    }
   ],
   "source": [
    "pullCard"
   ]
  },
  {
   "cell_type": "code",
   "execution_count": 12,
   "id": "a0c3879f-0f98-45ed-8c75-f0c9eadc72f7",
   "metadata": {},
   "outputs": [
    {
     "data": {
      "text/plain": [
       "'AceofDiamonds'"
      ]
     },
     "execution_count": 12,
     "metadata": {},
     "output_type": "execute_result"
    }
   ],
   "source": [
    "pullCard()"
   ]
  }
 ],
 "metadata": {
  "kernelspec": {
   "display_name": "Python 3 (ipykernel)",
   "language": "python",
   "name": "python3"
  },
  "language_info": {
   "codemirror_mode": {
    "name": "ipython",
    "version": 3
   },
   "file_extension": ".py",
   "mimetype": "text/x-python",
   "name": "python",
   "nbconvert_exporter": "python",
   "pygments_lexer": "ipython3",
   "version": "3.10.9"
  }
 },
 "nbformat": 4,
 "nbformat_minor": 5
}
